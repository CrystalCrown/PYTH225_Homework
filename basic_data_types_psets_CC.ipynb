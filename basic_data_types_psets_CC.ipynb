{
  "nbformat": 4,
  "nbformat_minor": 0,
  "metadata": {
    "colab": {
      "name": "basic_data_types_psets_CC.ipynb",
      "provenance": [],
      "collapsed_sections": [
        "0o8YPHxoVrWL",
        "poqjlnEOVrWh",
        "pRORE6K8VrWy"
      ],
      "toc_visible": true,
      "include_colab_link": true
    },
    "kernelspec": {
      "name": "python3",
      "display_name": "Python 3"
    }
  },
  "cells": [
    {
      "cell_type": "markdown",
      "metadata": {
        "id": "view-in-github",
        "colab_type": "text"
      },
      "source": [
        "<a href=\"https://colab.research.google.com/github/CrystalCrown/PYTH225_Homework/blob/master/basic_data_types_psets_CC.ipynb\" target=\"_parent\"><img src=\"https://colab.research.google.com/assets/colab-badge.svg\" alt=\"Open In Colab\"/></a>"
      ]
    },
    {
      "cell_type": "markdown",
      "metadata": {
        "id": "hFmxhgDQVrV8",
        "colab_type": "text"
      },
      "source": [
        "#  BASIC DATA TYPES\n",
        "\n"
      ]
    },
    {
      "cell_type": "markdown",
      "metadata": {
        "id": "uayAR97cWGX1",
        "colab_type": "text"
      },
      "source": [
        "## EASY"
      ]
    },
    {
      "cell_type": "markdown",
      "metadata": {
        "id": "CXt8F7evWHum",
        "colab_type": "text"
      },
      "source": [
        "### P1.PY"
      ]
    },
    {
      "cell_type": "code",
      "metadata": {
        "id": "gYyR5LKAVrWA",
        "colab_type": "code",
        "colab": {}
      },
      "source": [
        "\"\"\"\n",
        "Placeholders\n",
        "\"\"\"\n",
        "\n",
        "# You're writing a program, and you don't know what your starting value for your \n",
        "# 'initial' variable is yet. The program won't run if you leave it blank, but you \n",
        "# don't want to forget you need it! Make a workaround.\n",
        "\n",
        "init_var = None"
      ],
      "execution_count": 0,
      "outputs": []
    },
    {
      "cell_type": "markdown",
      "metadata": {
        "id": "ujd4_d5VVrWD",
        "colab_type": "text"
      },
      "source": [
        "\n",
        "\n",
        "### P2.PY\n",
        "\n",
        "\n"
      ]
    },
    {
      "cell_type": "code",
      "metadata": {
        "id": "9p_mg-MjVrWE",
        "colab_type": "code",
        "outputId": "716a3730-6aad-4437-ba67-7162c0eaa4a6",
        "colab": {
          "base_uri": "https://localhost:8080/",
          "height": 52
        }
      },
      "source": [
        "\"\"\"\n",
        "Basic Variables\n",
        "\"\"\"\n",
        "\n",
        "# Create a variable that represents your favorite number, and add a note to remind \n",
        "# yourself what this variable represents. Now print it out without re-typing the number.\n",
        "\n",
        "fav_num = 3 #my favorite number\n",
        "\n",
        "# Create another variable that represents your favorite color, and do the same steps as above.\n",
        "\n",
        "fav_color = 'red' #favorite color\n",
        "\n",
        "print(fav_num)\n",
        "print(fav_color)"
      ],
      "execution_count": 0,
      "outputs": [
        {
          "output_type": "stream",
          "text": [
            "3\n",
            "red\n"
          ],
          "name": "stdout"
        }
      ]
    },
    {
      "cell_type": "markdown",
      "metadata": {
        "id": "VbaMGAAYVrWH",
        "colab_type": "text"
      },
      "source": [
        "\n",
        "\n",
        "### P3.PY\n",
        "\n",
        "\n"
      ]
    },
    {
      "cell_type": "code",
      "metadata": {
        "id": "2i4mFvLGVrWI",
        "colab_type": "code",
        "outputId": "c16f6ced-6a76-4805-b2c0-168c43197440",
        "colab": {
          "base_uri": "https://localhost:8080/",
          "height": 121
        }
      },
      "source": [
        "\"\"\"\n",
        "String Formatting\n",
        "\"\"\"\n",
        "\n",
        "# Create a variable that contains the first 4 lines of lyrics from your favorite \n",
        "# song. Add a comment that includes the song title and artist **each on their own \n",
        "# line**! Now print out this variable.\n",
        "\n",
        "song_lyr = 'song lyrics'\n",
        "# Artist: Me\n",
        "# Title: None\n",
        "\n",
        "num_bottles = 99\n",
        "lyrics = f\"\"\"\n",
        "{num_bottles} bottles of beer on the wall,\n",
        "{num_bottles} bottles of beer,\n",
        "Take one down, \n",
        "pass it around,\n",
        "{num_bottles - 1} bottles of beer on the wall\"\"\"\n",
        "\n",
        "print(lyrics)"
      ],
      "execution_count": 0,
      "outputs": [
        {
          "output_type": "stream",
          "text": [
            "\n",
            "99 bottles of beer on the wall,\n",
            "99 bottles of beer,\n",
            "Take one down, \n",
            "pass it around,\n",
            "98 bottles of beer on the wall\n"
          ],
          "name": "stdout"
        }
      ]
    },
    {
      "cell_type": "markdown",
      "metadata": {
        "id": "poqjlnEOVrWh",
        "colab_type": "text"
      },
      "source": [
        "## OPERATORS\n",
        "\n",
        "\n",
        "\n"
      ]
    },
    {
      "cell_type": "markdown",
      "metadata": {
        "id": "3j0bS-HcWNLi",
        "colab_type": "text"
      },
      "source": [
        "### P1.PY"
      ]
    },
    {
      "cell_type": "code",
      "metadata": {
        "id": "poP19mJxVrWi",
        "colab_type": "code",
        "outputId": "294290d0-b2fa-4968-d901-664aa64af779",
        "colab": {
          "base_uri": "https://localhost:8080/",
          "height": 121
        }
      },
      "source": [
        "\"\"\"\n",
        "Game Show Score\n",
        "\"\"\"\n",
        "\n",
        "# Imagine the var below represents the latest score of a competitor on a game \n",
        "# show. As this person plays, you need to update their score to reflect gains \n",
        "# and losses in points. Each math operation below dictates the change in the \n",
        "# competitor's score to be made after each of his or her actions.\n",
        "# Complete the below math operations and print the results to show the changes \n",
        "# in the competitor's score throughout the game.\n",
        "\n",
        "latest_score = 100\n",
        "print(latest_score)\n",
        "\n",
        "# Add 50\n",
        "a= latest_score + 50\n",
        "latest_score = -= 90 #adding the + will subtract it from the same number. \n",
        "\n",
        "# Subtract 90\n",
        "b= latest_score - 90\n",
        "\n",
        "# Multiply 10\n",
        "c= latest_score * 10\n",
        "\n",
        "# Divide 150\n",
        "d= latest_score/150\n",
        "\n",
        "# Modulus 3\n",
        "e= latest_score % 3\n",
        "\n",
        "print(a)\n",
        "print(b)\n",
        "print(c)\n",
        "print(d)\n",
        "print(e)"
      ],
      "execution_count": 0,
      "outputs": [
        {
          "output_type": "stream",
          "text": [
            "100\n",
            "150\n",
            "10\n",
            "1000\n",
            "0.6666666666666666\n",
            "1\n"
          ],
          "name": "stdout"
        }
      ]
    },
    {
      "cell_type": "markdown",
      "metadata": {
        "id": "WAYZJHHgVrWk",
        "colab_type": "text"
      },
      "source": [
        "\n",
        "\n",
        "### P2.PY\n",
        "\n",
        "\n"
      ]
    },
    {
      "cell_type": "code",
      "metadata": {
        "id": "P067XIZ8VrWl",
        "colab_type": "code",
        "outputId": "171e608c-51a6-4092-b04e-c386792c7e85",
        "colab": {
          "base_uri": "https://localhost:8080/",
          "height": 35
        }
      },
      "source": [
        "\"\"\"\n",
        "String Operators\n",
        "\"\"\"\n",
        "\n",
        "# Create two variables, each of which is half of a compound sentence. \n",
        "## Example compound sentence: \"I'll go to the beach today, and I'll go snorkeling.\"\n",
        "\n",
        "part1 = \"I would like to go on vacation,\"\n",
        "part2 = \" work is stressing me out.\"\n",
        "\n",
        "combine = part1 + part2\n",
        "\n",
        "print(combine)"
      ],
      "execution_count": 0,
      "outputs": [
        {
          "output_type": "stream",
          "text": [
            "I would like to go on vacation, work is stressing me out.\n"
          ],
          "name": "stdout"
        }
      ]
    },
    {
      "cell_type": "markdown",
      "metadata": {
        "id": "TqqaKHjuVrWn",
        "colab_type": "text"
      },
      "source": [
        "\n",
        "\n",
        "### P3.PY\n",
        "\n",
        "\n"
      ]
    },
    {
      "cell_type": "markdown",
      "metadata": {
        "id": "H7kysyPYVrWo",
        "colab_type": "text"
      },
      "source": [
        "\"\"\"\n",
        "Addition I - Numbers & Strings\n",
        "\"\"\"\n",
        "\n",
        "# Add the below sets of variables together without causing any Type Errors. \n",
        "\n",
        "# A)\n",
        "a = 0\n",
        "b = 2\n",
        "\n",
        "ab = a+b\n",
        "print(ab)\n",
        "\n",
        "# B)\n",
        "c = '0'\n",
        "d = '2'\n",
        "\n",
        "cd= c+d\n",
        "print(cd)\n",
        "\n",
        "# C)\n",
        "e = '0'\n",
        "e2=int(e)\n",
        "f = 2\n",
        "\n",
        "try:\n",
        "    sum_ef = e+f\n",
        "except Exception:\n",
        "    print (\"Something went wrong!\")"
      ]
    },
    {
      "cell_type": "code",
      "metadata": {
        "id": "mpbF_hSPV3Ro",
        "colab_type": "code",
        "outputId": "796c3717-6f25-47f6-bd49-ccafe35904a7",
        "colab": {
          "base_uri": "https://localhost:8080/",
          "height": 104
        }
      },
      "source": [
        "#A)\n",
        "a = 0 \n",
        "b = 2.001\n",
        "\n",
        "ab = a+b \n",
        "print(ab)\n",
        "\n",
        "#B)\n",
        "c = '0' \n",
        "d = '2'\n",
        "\n",
        "cd= c+d \n",
        "print(cd)\n",
        "\n",
        "#C)\n",
        "e = '0' \n",
        "e2=int(e) \n",
        "f = 2\n",
        "\n",
        "try: \n",
        "  sum_ef = e+f \n",
        "except Exception: \n",
        "  print (\"Something went wrong!\")\n",
        "\n",
        "  \n",
        "try: \n",
        "  sum_ef = e+f \n",
        "except TypeError as typeerror: \n",
        "  print (\"Type error!\")\n",
        "  print (typeerror)\n",
        "except Exception as e:\n",
        "  print(e) #doesnt print this because the type error occurred so it went right\n",
        "  #to printing the type error. \"as type error\" stores the type of type\n",
        "  #error into a new variable. \n"
      ],
      "execution_count": 0,
      "outputs": [
        {
          "output_type": "stream",
          "text": [
            "2.001\n",
            "02\n",
            "Something went wrong!\n",
            "Type error!\n",
            "must be str, not int\n"
          ],
          "name": "stdout"
        }
      ]
    },
    {
      "cell_type": "markdown",
      "metadata": {
        "id": "T4rtuQ1CVrWr",
        "colab_type": "text"
      },
      "source": [
        "\n",
        "\n",
        "### P4.PY\n",
        "\n",
        "\n"
      ]
    },
    {
      "cell_type": "code",
      "metadata": {
        "id": "eCkVtKI8VrWs",
        "colab_type": "code",
        "outputId": "5d9079c7-40b3-4822-b49b-3f1cd5f4f9a9",
        "colab": {
          "base_uri": "https://localhost:8080/",
          "height": 69
        }
      },
      "source": [
        "\"\"\"\n",
        "Addition II - Booleans\n",
        "\"\"\"\n",
        "\n",
        "# Add the below sets of variables together.\n",
        "\n",
        "# A)\n",
        "a = True\n",
        "b = True\n",
        "\n",
        "ab = a+b\n",
        "\n",
        "# B)\n",
        "c = False\n",
        "d = False\n",
        "cd=c+d\n",
        "\n",
        "\n",
        "# C)\n",
        "e = True\n",
        "f = False\n",
        "ef=e+f\n",
        "\n",
        "print(ab)\n",
        "print(cd)\n",
        "print(ef)"
      ],
      "execution_count": 0,
      "outputs": [
        {
          "output_type": "stream",
          "text": [
            "2\n",
            "0\n",
            "1\n"
          ],
          "name": "stdout"
        }
      ]
    },
    {
      "cell_type": "markdown",
      "metadata": {
        "id": "0o8YPHxoVrWL",
        "colab_type": "text"
      },
      "source": [
        "## TYPECASTING\n",
        "\n"
      ]
    },
    {
      "cell_type": "markdown",
      "metadata": {
        "id": "XlNf2YptWKVu",
        "colab_type": "text"
      },
      "source": [
        "### P1.PY"
      ]
    },
    {
      "cell_type": "code",
      "metadata": {
        "id": "LDgWvrWzVrWM",
        "colab_type": "code",
        "outputId": "44453b13-66de-4042-e225-11748a7ef91e",
        "colab": {
          "base_uri": "https://localhost:8080/",
          "height": 156
        }
      },
      "source": [
        "\"\"\"\n",
        "Typcasting w. Integers & Floats\n",
        "\"\"\"\n",
        "\n",
        "# Convert these numbers into floats and back. Print out each result as well as \n",
        "# its data type.\n",
        "\n",
        "five = 5\n",
        "zero = 0\n",
        "neg_8 = -8\n",
        "neg_22 = -22\n",
        "\n",
        "five = float(five)\n",
        "zero=float(zero)\n",
        "neg_8=float(neg_8)\n",
        "neg_22=float(neg_22)\n",
        "\n",
        "print(five)\n",
        "print(zero)\n",
        "print(neg_8)\n",
        "print(neg_22)\n",
        "\n",
        "five=int(five)\n",
        "zero=int(zero)\n",
        "neg_8=int(neg_8)\n",
        "neg_22=int(neg_22)\n",
        "\n",
        "\n",
        "print(five)\n",
        "print(zero)\n",
        "print(neg_8)\n",
        "print(neg_22)\n"
      ],
      "execution_count": 0,
      "outputs": [
        {
          "output_type": "stream",
          "text": [
            "5.0\n",
            "0.0\n",
            "-8.0\n",
            "-22.0\n",
            "5\n",
            "0\n",
            "-8\n",
            "-22\n"
          ],
          "name": "stdout"
        }
      ]
    },
    {
      "cell_type": "markdown",
      "metadata": {
        "id": "HWOwfU00VrWS",
        "colab_type": "text"
      },
      "source": [
        "\n",
        "\n",
        "### P2.PY\n",
        "\n",
        "\n"
      ]
    },
    {
      "cell_type": "code",
      "metadata": {
        "id": "_5-k5J4mVrWT",
        "colab_type": "code",
        "outputId": "d4bc8e41-6232-4056-a9a8-ea5415b5f945",
        "colab": {
          "base_uri": "https://localhost:8080/",
          "height": 191
        }
      },
      "source": [
        "\"\"\"\n",
        "Typcasting w. Strings\n",
        "\"\"\"\n",
        "\n",
        "# Convert these variables into strings and then back to their original data types. \n",
        "# Print out each result as well as its data type. What do you notice about the last one?\n",
        "\n",
        "five = 5\n",
        "zero = 0\n",
        "neg_8 = -8\n",
        "T = True\n",
        "F = False\n",
        "\n",
        "five=str(5)\n",
        "zero=str(zero)\n",
        "neg_8=str(neg_8)\n",
        "T = str(True)\n",
        "F = str(False)\n",
        "\n",
        "print(five)\n",
        "print(zero)\n",
        "print(neg_8)\n",
        "print(T)\n",
        "print(F)\n",
        "\n",
        "five = int(five)\n",
        "zero = int(zero)\n",
        "neg_8 = int(neg_8)\n",
        "T = bool(T)\n",
        "F = bool(F)\n",
        "\n",
        "\n",
        "print(five)\n",
        "print(zero)\n",
        "print(neg_8)\n",
        "print(T)\n",
        "print(F)"
      ],
      "execution_count": 0,
      "outputs": [
        {
          "output_type": "stream",
          "text": [
            "5\n",
            "0\n",
            "-8\n",
            "True\n",
            "False\n",
            "5\n",
            "0\n",
            "-8\n",
            "True\n",
            "True\n"
          ],
          "name": "stdout"
        }
      ]
    },
    {
      "cell_type": "markdown",
      "metadata": {
        "id": "FO_LansxVrWV",
        "colab_type": "text"
      },
      "source": [
        "\n",
        "\n",
        "### P3.PY\n",
        "\n",
        "\n"
      ]
    },
    {
      "cell_type": "code",
      "metadata": {
        "id": "bSVcghffVrWW",
        "colab_type": "code",
        "outputId": "51278d9f-ac6c-4be9-8493-f703d22cdf0b",
        "colab": {
          "base_uri": "https://localhost:8080/",
          "height": 329
        }
      },
      "source": [
        "\"\"\"\n",
        "Booleans I - Typecasting w. Numbers\n",
        "\"\"\"\n",
        "\n",
        "# A) Use typecasting to turn these variables into boolean values. \n",
        "# Print the result and the datatype of the result. \n",
        "\n",
        "one = 1\n",
        "zero = 0\n",
        "\n",
        "one= bool(1)\n",
        "zero= bool(0)\n",
        "\n",
        "print(one)\n",
        "print(type(one))\n",
        "\n",
        "print(zero)\n",
        "print(type(zero))\n",
        "\n",
        "# B) Use typecasting to turn the resultant variables from part A into floats. \n",
        "# Print the result and the datatype of the result.\n",
        "\n",
        "one=float(one)\n",
        "zero=float(zero)\n",
        "\n",
        "print(one)\n",
        "print(type(one))\n",
        "\n",
        "print(zero)\n",
        "print(type(zero))\n",
        "\n",
        "# C) Use typecasting to turn the resultant variables from part B back into \n",
        "# booleans. Print the result and the datatype of the result.\n",
        "one=bool(one)\n",
        "zero=bool(zero)\n",
        "\n",
        "print(one)\n",
        "print(type(one))\n",
        "\n",
        "print(zero)\n",
        "print(type(zero))\n",
        "\n",
        "# C) Use typecasting to turn the resultant variables from part C into integers. \n",
        "# Print the result and the datatype of the result.\n",
        "one=int(one)\n",
        "one=int(zero)\n",
        "\n",
        "print(one)\n",
        "print(type(one))\n",
        "\n",
        "print(zero)\n",
        "print(type(zero))\n",
        "\n",
        "# E) Use typecasting to turn the variable below into a boolean value. \n",
        "# Print the result and the datatype of the result. \n",
        "\n",
        "ten = 10\n",
        "ten=bool(ten)\n",
        "\n",
        "print(ten)\n",
        "print(type(ten))\n"
      ],
      "execution_count": 0,
      "outputs": [
        {
          "output_type": "stream",
          "text": [
            "True\n",
            "<class 'bool'>\n",
            "False\n",
            "<class 'bool'>\n",
            "1.0\n",
            "<class 'float'>\n",
            "0.0\n",
            "<class 'float'>\n",
            "True\n",
            "<class 'bool'>\n",
            "False\n",
            "<class 'bool'>\n",
            "0\n",
            "<class 'int'>\n",
            "False\n",
            "<class 'bool'>\n",
            "True\n",
            "<class 'bool'>\n"
          ],
          "name": "stdout"
        }
      ]
    },
    {
      "cell_type": "markdown",
      "metadata": {
        "id": "Q7lEbfSQVrWc",
        "colab_type": "text"
      },
      "source": [
        "\n",
        "\n",
        "### P4.PY\n",
        "\n",
        "\n"
      ]
    },
    {
      "cell_type": "code",
      "metadata": {
        "id": "YFLt2TDXVrWf",
        "colab_type": "code",
        "outputId": "cd541ec7-b533-4f36-dda9-fe593eff44ec",
        "colab": {
          "base_uri": "https://localhost:8080/",
          "height": 295
        }
      },
      "source": [
        "\"\"\"\n",
        "Booleans II - Typecasting w. Strings\n",
        "\"\"\"\n",
        "\n",
        "# A) Use typecasting to turn these variables into boolean values. Print the \n",
        "# result and the datatype of the result. \n",
        "\n",
        "one = 1\n",
        "zero = 0\n",
        "T = True\n",
        "F = False\n",
        "\n",
        "one=bool(one)\n",
        "zero=bool(zero)\n",
        "T=bool(T)\n",
        "F=bool(F)\n",
        "\n",
        "print(one)\n",
        "print(type(one))\n",
        "\n",
        "print(zero)\n",
        "print(type(zero))\n",
        "\n",
        "print(T)\n",
        "print(type(T))\n",
        "\n",
        "print(F)\n",
        "print(type(F))\n",
        "\n",
        "# B) Use typecasting to turn the latest values for variables 'one' and 'zero' \n",
        "# back into integers. Print the result and the datatype of the result.\n",
        "\n",
        "one=int(one)\n",
        "zero=int(zero)\n",
        "\n",
        "print(one)\n",
        "print(type(one))\n",
        "\n",
        "print(zero)\n",
        "print(type(zero))\n",
        "\n",
        "# C) Use typecasting to turn the latest values for variables 'T' and 'F' back \n",
        "# into boolean values. Print the result and the datatype of the result.\n",
        "\n",
        "T=bool(T)\n",
        "F=bool(F)\n",
        "\n",
        "print(T)\n",
        "print(type(T))\n",
        "\n",
        "print(F)\n",
        "print(type(F))"
      ],
      "execution_count": 0,
      "outputs": [
        {
          "output_type": "stream",
          "text": [
            "True\n",
            "<class 'bool'>\n",
            "False\n",
            "<class 'bool'>\n",
            "True\n",
            "<class 'bool'>\n",
            "False\n",
            "<class 'bool'>\n",
            "1\n",
            "<class 'int'>\n",
            "0\n",
            "<class 'int'>\n",
            "True\n",
            "<class 'bool'>\n",
            "False\n",
            "<class 'bool'>\n"
          ],
          "name": "stdout"
        }
      ]
    },
    {
      "cell_type": "markdown",
      "metadata": {
        "id": "pRORE6K8VrWy",
        "colab_type": "text"
      },
      "source": [
        "## SHOPPING_LIST\n",
        "\n",
        "\n"
      ]
    },
    {
      "cell_type": "markdown",
      "metadata": {
        "id": "sX291wpjWQea",
        "colab_type": "text"
      },
      "source": [
        "### P1.PY"
      ]
    },
    {
      "cell_type": "code",
      "metadata": {
        "id": "kH5HZBmiVrWy",
        "colab_type": "code",
        "outputId": "14a56a70-fd10-43ec-ddbd-e9b0c35873ab",
        "colab": {
          "base_uri": "https://localhost:8080/",
          "height": 104
        }
      },
      "source": [
        "\"\"\"\n",
        "Shopping List Calculator I\n",
        "\"\"\"\n",
        "\n",
        "# Create five variables,\n",
        "# set them to strings that represent 5 common shopping list items\n",
        "\n",
        "\n",
        "item_name_1 = 'Coffee'\n",
        "item_name_2 = 'Rice'\n",
        "item_name_3 = 'Lentils'\n",
        "item_name_4 = 'Pasta'\n",
        "item_name_5 = 'Bananas'\n",
        "\n",
        "# Create five more variables,\n",
        "# set them to floats that represent the prices of each of the items above\n",
        "\n",
        "item_price_1 = '9.99'\n",
        "item_price_2 = '20.00'\n",
        "item_price_3 = '2.99'\n",
        "item_price_4 = '3.99'\n",
        "item_price_5 = '3.49'\n",
        "\n",
        "# Create five more variables,\n",
        "# set them to ints that represent the quantity of each of the items above\n",
        "item_quant_1 = '1'\n",
        "item_quant_2 = '1'\n",
        "item_quant_3 = '1'\n",
        "item_quant_4 = '2'\n",
        "item_quant_5 = '6'\n",
        "\n",
        "# Print to the console the name and price of each item defined above as follows:\n",
        "# 1 Coco Puffs = $8.95.\n",
        "# where:\n",
        "# 1 would be item_quant_1\n",
        "# Coco Puffs would be item_name_1\n",
        "# 8.95 would be item_name_2\n",
        "print(item_quant_1 + ' ' + item_name_1 + ' = ' + item_price_1)\n",
        "print(item_quant_2 + ' ' + item_name_2 + ' = ' + item_price_2)\n",
        "print(item_quant_3 + ' ' + item_name_3 + ' = ' + item_price_3)\n",
        "print(item_quant_4 + ' ' + item_name_4 + ' = ' + item_price_4)\n",
        "print(item_quant_5 + ' ' + item_name_5 + ' = ' + item_price_5)"
      ],
      "execution_count": 0,
      "outputs": [
        {
          "output_type": "stream",
          "text": [
            "1 Coffee = 9.99\n",
            "1 Rice = 20.00\n",
            "1 Lentils = 2.99\n",
            "2 Pasta = 3.99\n",
            "6 Bananas = 3.49\n"
          ],
          "name": "stdout"
        }
      ]
    },
    {
      "cell_type": "markdown",
      "metadata": {
        "id": "tr50TO3xVrW1",
        "colab_type": "text"
      },
      "source": [
        "\n",
        "\n",
        "### P2.PY\n",
        "\n",
        "\n"
      ]
    },
    {
      "cell_type": "code",
      "metadata": {
        "id": "_6WnvYbpVrW2",
        "colab_type": "code",
        "outputId": "58bdcda6-e2b4-4692-8143-6d88cc174992",
        "colab": {
          "base_uri": "https://localhost:8080/",
          "height": 357
        }
      },
      "source": [
        "\"\"\"\n",
        "Shopping List Calculator II\n",
        "\"\"\"\n",
        "\n",
        "# Rewrite p1, but this time use the input() command to solicit user input for \n",
        "# name, price, quantity. Here's how it works:\n",
        "\n",
        "# item_name_1 = input('Name your first item: ') \n",
        "\t# ^ this will ask user to input value of item_name_1\n",
        "\n",
        "# use input() function and ask user to name items\n",
        "item_name_1 = input(\"Name your first item: \")\n",
        "item_name_2 = input(\"Name your second item: \")\n",
        "item_name_3 = input(\"Name your third item: \")\n",
        "item_name_4 = input(\"Name your fourth item: \")\n",
        "item_name_5 = input(\"Name your fifth item: \")\n",
        "\n",
        "# use input() function and ask user to name prices\n",
        "item_price_1 = str(input(\"Please enter the price for your first item: \"))\n",
        "item_price_2 = str(input(\"Please enter the price for your second item: \"))\n",
        "item_price_3 = str(input(\"Please enter the price for your third item: \"))\n",
        "item_price_4 = str(input(\"Please enter the price for your fourth item: \"))\n",
        "item_price_5 = str(input(\"Please enter the price for your fifth item: \"))\n",
        "\n",
        "# use input() function and ask user to name quants\n",
        "item_quant_1 = str(input(\"Please enter the quantity you would like to purchase of of your first item: \"))\n",
        "item_quant_2 = str(input(\"Please enter the quantity you would like to purchase of of your second item: \"))\n",
        "item_quant_3 = str(input(\"Please enter the quantity you would like to purchase of of your third item: \"))\n",
        "item_quant_4 = str(input(\"Please enter the quantity you would like to purchase of of your fourth item: \"))\n",
        "item_quant_5 = str(input(\"Please enter the quantity you would like to purchase of of your fifth item: \"))\n",
        "\n",
        "# Print to the console the name and price of each item defined above as follows:\n",
        "# 1 Coco Puffs = $8.95.\n",
        "# where:\n",
        "# 1 would be item_quant_1\n",
        "# Coco Puffs would be item_name_1\n",
        "# 8.95 would be item_name_2\n",
        "\n",
        "# JUST REMEMBER: now this will be defined by the user!!\n",
        "\n",
        "print(item_quant_1+' '+item_name_1+' = '+item_price_1)\n",
        "print(item_quant_2+' '+item_name_2+' = '+item_price_2)\n",
        "print(item_quant_3+' '+item_name_3+' = '+item_price_3)\n",
        "print(item_quant_4+' '+item_name_4+' = '+item_price_4)\n",
        "print(item_quant_5+' '+item_name_5+' = '+item_price_5)"
      ],
      "execution_count": 1,
      "outputs": [
        {
          "output_type": "stream",
          "text": [
            "Name your first item: Coffee\n",
            "Name your second item: Rice\n",
            "Name your third item: Milk\n",
            "Name your fourth item: Tomatoes\n",
            "Name your fifth item: Bananas\n",
            "Please enter the price for your first item: 9.99\n",
            "Please enter the price for your second item: 10.99\n",
            "Please enter the price for your third item: 4.99\n",
            "Please enter the price for your fourth item: 2.99\n",
            "Please enter the price for your fifth item: 3.49\n",
            "Please enter the quantity you would like to purchase of of your first item: 1\n",
            "Please enter the quantity you would like to purchase of of your second item: 1\n",
            "Please enter the quantity you would like to purchase of of your third item: 1\n",
            "Please enter the quantity you would like to purchase of of your fourth item: 3\n",
            "Please enter the quantity you would like to purchase of of your fifth item: \n",
            "1 Coffee = 9.99\n",
            "1 Rice = 10.99\n",
            "1 Milk = 4.99\n",
            "3 Tomatoes = 2.99\n",
            " Bananas = 3.49\n"
          ],
          "name": "stdout"
        }
      ]
    },
    {
      "cell_type": "markdown",
      "metadata": {
        "id": "vgZcfv-zVrW4",
        "colab_type": "text"
      },
      "source": [
        "\n"
      ]
    }
  ]
}